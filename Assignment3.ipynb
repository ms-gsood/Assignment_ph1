{
  "nbformat": 4,
  "nbformat_minor": 0,
  "metadata": {
    "colab": {
      "name": "Assignment3.ipynb",
      "provenance": []
    },
    "kernelspec": {
      "name": "python3",
      "display_name": "Python 3"
    }
  },
  "cells": [
    {
      "cell_type": "code",
      "metadata": {
        "id": "zx3dJDkw2lvL",
        "colab_type": "code",
        "outputId": "e5db79d6-4172-4051-f935-a46f88ad905b",
        "colab": {
          "base_uri": "https://localhost:8080/",
          "height": 34
        }
      },
      "source": [
        "def divideByZero(a,b):\n",
        "  res=0\n",
        "  try:\n",
        "    res=a/b\n",
        "    print (res)\n",
        "  except ZeroDivisionError:\n",
        "    print(\"Cannot divide by zero\")\n",
        "  #finally:\n",
        "   # print(res)\n",
        "  \n",
        "divideByZero(5,0)"
      ],
      "execution_count": 0,
      "outputs": [
        {
          "output_type": "stream",
          "text": [
            "Cannot divide by zero\n"
          ],
          "name": "stdout"
        }
      ]
    },
    {
      "cell_type": "code",
      "metadata": {
        "id": "vkZw2T1PMdkB",
        "colab_type": "code",
        "outputId": "a0b251a5-aa43-4704-e74a-6d937ac3edb3",
        "colab": {
          "base_uri": "https://localhost:8080/",
          "height": 153
        }
      },
      "source": [
        "subject=[\"Americans\",\"Indians\"]\n",
        "verb=[\"play\",\"watch\"]\n",
        "objects=[\"Baseball\",\"Cricket\"]\n",
        "for sub in subject:\n",
        "  for v in verb:\n",
        "    for obj in objects:\n",
        "      print(sub+\" \"+v+\" \"+obj)"
      ],
      "execution_count": 0,
      "outputs": [
        {
          "output_type": "stream",
          "text": [
            "Americans play Baseball\n",
            "Americans play Cricket\n",
            "Americans watch Baseball\n",
            "Americans watch Cricket\n",
            "Indians play Baseball\n",
            "Indians play Cricket\n",
            "Indians watch Baseball\n",
            "Indians watch Cricket\n"
          ],
          "name": "stdout"
        }
      ]
    }
  ]
}