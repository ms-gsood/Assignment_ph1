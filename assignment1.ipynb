{
  "nbformat": 4,
  "nbformat_minor": 0,
  "metadata": {
    "colab": {
      "name": "assignment1.ipynb",
      "provenance": [],
      "collapsed_sections": []
    },
    "kernelspec": {
      "name": "python3",
      "display_name": "Python 3"
    }
  },
  "cells": [
    {
      "cell_type": "markdown",
      "metadata": {
        "id": "u3kq68Yk2Cbi",
        "colab_type": "text"
      },
      "source": [
        "/*Install Jupyter notebook and run the first program and share the screenshot of the output*/\n",
        "\n",
        "[link text](http://localhost:8888/notebooks/Anaconda3/Untitled.ipynb?kernel_name=python3#)\n"
      ]
    },
    {
      "cell_type": "code",
      "metadata": {
        "id": "vbf1sxHYs-Fx",
        "colab_type": "code",
        "colab": {
          "base_uri": "https://localhost:8080/",
          "height": 54
        },
        "outputId": "1965c0e8-0b81-4d10-af4a-f63b0f64e8f3"
      },
      "source": [
        "#Write a program which will find all such numbers which are divisible by 7 but are not a multiple\n",
        "#of 5, between 2000 and 3200 (both included). The numbers obtained should be printed in a\n",
        "#comma-separated sequence on a single line.\n",
        "l=''\n",
        "for i in range(2000,3201):\n",
        "  if (i%7==0):\n",
        "    if (i%5!=0):\n",
        "      l=l+str(i)+','\n",
        "l_print=l[0:len(l)-1]\n",
        "print(l_print)"
      ],
      "execution_count": 1,
      "outputs": [
        {
          "output_type": "stream",
          "text": [
            "2002,2009,2016,2023,2037,2044,2051,2058,2072,2079,2086,2093,2107,2114,2121,2128,2142,2149,2156,2163,2177,2184,2191,2198,2212,2219,2226,2233,2247,2254,2261,2268,2282,2289,2296,2303,2317,2324,2331,2338,2352,2359,2366,2373,2387,2394,2401,2408,2422,2429,2436,2443,2457,2464,2471,2478,2492,2499,2506,2513,2527,2534,2541,2548,2562,2569,2576,2583,2597,2604,2611,2618,2632,2639,2646,2653,2667,2674,2681,2688,2702,2709,2716,2723,2737,2744,2751,2758,2772,2779,2786,2793,2807,2814,2821,2828,2842,2849,2856,2863,2877,2884,2891,2898,2912,2919,2926,2933,2947,2954,2961,2968,2982,2989,2996,3003,3017,3024,3031,3038,3052,3059,3066,3073,3087,3094,3101,3108,3122,3129,3136,3143,3157,3164,3171,3178,3192,3199\n"
          ],
          "name": "stdout"
        }
      ]
    },
    {
      "cell_type": "code",
      "metadata": {
        "id": "qymWmwQb4N8x",
        "colab_type": "code",
        "colab": {
          "base_uri": "https://localhost:8080/",
          "height": 68
        },
        "outputId": "38e4c764-ff6f-4bdf-b75d-4d1e65638c2e"
      },
      "source": [
        "#Write a Python program to accept the user's first and last name and then getting them printed in\n",
        "#the the reverse order with a space between first name and last name.\n",
        "\n",
        "fname=input(\"Enter First Name:\")\n",
        "lname=input(\"Enter Last Name:\")\n",
        "rn=''\n",
        "rn=lname+' '+fname\n",
        "print(rn)\n",
        "\n"
      ],
      "execution_count": 2,
      "outputs": [
        {
          "output_type": "stream",
          "text": [
            "Enter First Name:geet\n",
            "Enter Last Name:sood\n",
            "sood geet\n"
          ],
          "name": "stdout"
        }
      ]
    },
    {
      "cell_type": "code",
      "metadata": {
        "id": "RfZO8SpSWf97",
        "colab_type": "code",
        "colab": {
          "base_uri": "https://localhost:8080/",
          "height": 34
        },
        "outputId": "71ccdad6-7f3b-4bea-a8ae-95fdc06b1da1"
      },
      "source": [
        "#Write a Python program to find the volume of a sphere with diameter 12 cm.\n",
        "#Formula: V=4/3 * π * r^3\n",
        "#import math\n",
        "diameter=12\n",
        "pie =3.14\n",
        "r=diameter//2\n",
        "V=4/3 * pie * r**3\n",
        "print (V)\n"
      ],
      "execution_count": 3,
      "outputs": [
        {
          "output_type": "stream",
          "text": [
            "904.3199999999999\n"
          ],
          "name": "stdout"
        }
      ]
    },
    {
      "cell_type": "code",
      "metadata": {
        "id": "OgHK2eyxYt40",
        "colab_type": "code",
        "colab": {
          "base_uri": "https://localhost:8080/",
          "height": 51
        },
        "outputId": "0758dae9-75ab-4ee3-a7ea-e308e849c084"
      },
      "source": [
        "#Write a program which accepts a sequence of comma-separated numbers from console and\n",
        "#generate a list\n",
        "csv=input(\"Enter a comma separated list: \")\n",
        "csl=csv.split(\",\")\n",
        "csl_int=list(map(int,csl))\n",
        "print(csl_int)"
      ],
      "execution_count": 4,
      "outputs": [
        {
          "output_type": "stream",
          "text": [
            "Enter a comma separated list: 1,2,3,4\n",
            "[1, 2, 3, 4]\n"
          ],
          "name": "stdout"
        }
      ]
    },
    {
      "cell_type": "code",
      "metadata": {
        "id": "SrSO4S1MjtKA",
        "colab_type": "code",
        "colab": {
          "base_uri": "https://localhost:8080/",
          "height": 170
        },
        "outputId": "11e7ab61-f69c-4bb6-f226-408015505b87"
      },
      "source": [
        "#Create the below pattern using nested for loop in Python.\n",
        "#*\n",
        "#* *\n",
        "#* * *\n",
        "#* * * *\n",
        "#* * * * *\n",
        "#* * * *\n",
        "#* * *\n",
        "#* *\n",
        "#*\n",
        "for i in range(1,6):\n",
        "  for b in range(i,i+1):\n",
        "    print('*'*b)\n",
        "for a in range(4,0,-1):    \n",
        "    print('*'*a)"
      ],
      "execution_count": 5,
      "outputs": [
        {
          "output_type": "stream",
          "text": [
            "*\n",
            "**\n",
            "***\n",
            "****\n",
            "*****\n",
            "****\n",
            "***\n",
            "**\n",
            "*\n"
          ],
          "name": "stdout"
        }
      ]
    },
    {
      "cell_type": "code",
      "metadata": {
        "id": "Hp8bAC6_rRUQ",
        "colab_type": "code",
        "colab": {
          "base_uri": "https://localhost:8080/",
          "height": 51
        },
        "outputId": "594afe89-46db-40b9-cc07-b665f6128e8d"
      },
      "source": [
        "#Write a Python program to reverse a word after accepting the input from the user\n",
        "word=input(\"Enter any word:\")\n",
        "rev_word=word[::-1]\n",
        "print(rev_word)"
      ],
      "execution_count": 6,
      "outputs": [
        {
          "output_type": "stream",
          "text": [
            "Enter any word:hey, i'm new\n",
            "wen m'i ,yeh\n"
          ],
          "name": "stdout"
        }
      ]
    },
    {
      "cell_type": "code",
      "metadata": {
        "id": "WWnEdjwptK81",
        "colab_type": "code",
        "colab": {
          "base_uri": "https://localhost:8080/",
          "height": 85
        },
        "outputId": "7f8c0f30-64ac-4e0a-9e8e-69c35bb10c85"
      },
      "source": [
        "inp_str='WE, THE PEOPLE OF INDIA, having solemnly resolved to constitute India into a SOVEREIGN, SOCIALIST, SECULAR, DEMOCRATIC REPUBLIC and to secure to all its citizens'\n",
        "op_str='WE, THE PEOPLE OF INDIA,\\n\\thaving solemnly resolved to constitute India into a SOVEREIGN,!\\n\\t\\tSOCIALIST, SECULAR, DEMOCRATIC REPUBLIC\\n\\t\\tand to secure to all its citizens'\n",
        "print(op_str)"
      ],
      "execution_count": 7,
      "outputs": [
        {
          "output_type": "stream",
          "text": [
            "WE, THE PEOPLE OF INDIA,\n",
            "\thaving solemnly resolved to constitute India into a SOVEREIGN,!\n",
            "\t\tSOCIALIST, SECULAR, DEMOCRATIC REPUBLIC\n",
            "\t\tand to secure to all its citizens\n"
          ],
          "name": "stdout"
        }
      ]
    }
  ]
}