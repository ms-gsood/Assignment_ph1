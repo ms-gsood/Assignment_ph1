{
  "nbformat": 4,
  "nbformat_minor": 0,
  "metadata": {
    "colab": {
      "name": "Assignment2.ipynb",
      "provenance": [],
      "collapsed_sections": []
    },
    "kernelspec": {
      "name": "python3",
      "display_name": "Python 3"
    }
  },
  "cells": [
    {
      "cell_type": "code",
      "metadata": {
        "id": "ifRvUJherVFy",
        "colab_type": "code",
        "outputId": "36d515e4-8693-4289-9e77-9f775579c6ba",
        "colab": {
          "base_uri": "https://localhost:8080/",
          "height": 34
        }
      },
      "source": [
        "#1.1\n",
        "#Write a Python Program to implement your own myreduce() function which works exactly like\n",
        "#Python's built-in function reduce()\n",
        "\n",
        "def myreduce(seq):\n",
        "  sum=0\n",
        "  for i in seq:\n",
        "    sum+=i\n",
        "  return sum\n",
        "a=[1,2,3,4]\n",
        "op=myreduce(a)\n",
        "print(op)"
      ],
      "execution_count": 0,
      "outputs": [
        {
          "output_type": "stream",
          "text": [
            "10\n"
          ],
          "name": "stdout"
        }
      ]
    },
    {
      "cell_type": "code",
      "metadata": {
        "id": "UbynSTAntIji",
        "colab_type": "code",
        "colab": {
          "base_uri": "https://localhost:8080/",
          "height": 34
        },
        "outputId": "53cae606-a8ad-4140-ccd1-3b0df5e79dc9"
      },
      "source": [
        "#Write a Python program to implement your own myfilter() function which works exactly like\n",
        "#Python's built-in function filter()\n",
        "\n",
        "def even(num):\n",
        "  if num%2==0:\n",
        "    return 1\n",
        "def myfilter(even,num):\n",
        "  l=[]\n",
        "  for i in num:\n",
        "    if even(i):\n",
        "      l.append(i)\n",
        "  return l\n",
        "y=list(myfilter(even,{1,2,3,4}))\n",
        "print(y)\n",
        "\n",
        "str1=\"Hi I am new\"\n",
        "str1=str1.split()\n",
        "#print(str1)\n",
        "op=list(myfilter(lambda x:x=='I',str1))\n",
        "\n"
      ],
      "execution_count": 39,
      "outputs": [
        {
          "output_type": "stream",
          "text": [
            "[2, 4]\n"
          ],
          "name": "stdout"
        }
      ]
    },
    {
      "cell_type": "code",
      "metadata": {
        "id": "b1VExcEeJaiP",
        "colab_type": "code",
        "outputId": "9e6dc8c3-75ff-4cf7-ff89-8a04ec08f73f",
        "colab": {
          "base_uri": "https://localhost:8080/",
          "height": 34
        }
      },
      "source": [
        "#2.\n",
        "#Implement List comprehensions to produce the following lists.\n",
        "#Write List comprehensions to produce the following Lists\n",
        "#1['A', 'C', 'A', 'D', 'G', 'I', ’L’, ‘ D’]\n",
        "\n",
        "#['x', 'xx', 'xxx', 'xxxx', 'y', 'yy', 'yyy', 'yyyy', 'z', 'zz', 'zzz', 'zzzz']\n",
        "\n",
        "#['x', 'y', 'z', 'xx', 'yy', 'zz', 'xx', 'yy', 'zz', 'xxxx', 'yyyy', 'zzzz']\n",
        "\n",
        "#[[2], [3], [4], [3], [4], [5], [4], [5], [6]]\n",
        "\n",
        "#[[2, 3, 4, 5], [3, 4, 5, 6], [4, 5, 6, 7], [5, 6, 7, 8]]\n",
        "\n",
        "#[(1, 1), (2, 1), (3, 1), (1, 2), (2, 2), (3, 2), (1, 3), (2, 3), (3, 3)]\n",
        "\n",
        "str1='ACADGILD'\n",
        "[x for x in str1]\n",
        "\n",
        "[a*n for a in ['x','y','z'] for n in range(1,5)]\n",
        "\n",
        "[a*n for n in range(1,5) for a in ['x','y','z']]\n",
        "\n",
        "num1=[2,3,4]\n",
        "[[a+n] for n in range (2,5) for a in range(0,3)]\n",
        "\n",
        "[[a,a+n,a+n+1,a+n+2] for a in range(2,6) for n in range (1,2)]\n",
        "\n",
        "[(n,a) for a in range(1,4) for n in range (1,4)]"
      ],
      "execution_count": 19,
      "outputs": [
        {
          "output_type": "execute_result",
          "data": {
            "text/plain": [
              "[(1, 1), (2, 1), (3, 1), (1, 2), (2, 2), (3, 2), (1, 3), (2, 3), (3, 3)]"
            ]
          },
          "metadata": {
            "tags": []
          },
          "execution_count": 19
        }
      ]
    },
    {
      "cell_type": "code",
      "metadata": {
        "id": "E734wVVyWnV7",
        "colab_type": "code",
        "outputId": "b9822ee0-9d6c-4f96-d8f8-93d2804aca4d",
        "colab": {
          "base_uri": "https://localhost:8080/",
          "height": 34
        }
      },
      "source": [
        "#3.\n",
        "#Implement a function longestWord() that takes a list of words and returns the longest one.\n",
        "def longestWord(wordList):\n",
        "  maxLen=0\n",
        "  for word in wordList:\n",
        "    if len(word)>maxLen:\n",
        "      maxLen=len(word)\n",
        "    else:\n",
        "      continue\n",
        "  return maxLen\n",
        "#wordList=[]\n",
        "wordList=['a','ab','abc','abcd','abcdeff','abcdef','abc']\n",
        "maxWord=longestWord(wordList)\n",
        "print(maxWord)\n"
      ],
      "execution_count": 32,
      "outputs": [
        {
          "output_type": "stream",
          "text": [
            "7\n"
          ],
          "name": "stdout"
        }
      ]
    },
    {
      "cell_type": "markdown",
      "metadata": {
        "id": "sx5fgWqYZBdH",
        "colab_type": "text"
      },
      "source": [
        "Task 2:</br>\n",
        "1.1:</br>\n",
        "Write a Python Program(with class concepts) to find the area of the triangle using the below\n",
        "formula.</br>\n",
        "area = (s*(s-a)*(s-b)*(s-c)) ** 0.5\n",
        "Function to take the length of the sides of triangle from user should be defined in the parent\n",
        "class and function to calculate the area should be defined in subclass.\n"
      ]
    },
    {
      "cell_type": "code",
      "metadata": {
        "id": "gRVCxuULZgge",
        "colab_type": "code",
        "colab": {
          "base_uri": "https://localhost:8080/",
          "height": 102
        },
        "outputId": "986671d1-8efe-46be-c21a-dca6cee7ec32"
      },
      "source": [
        "class Triangle:\n",
        "  def inp_sides(self):\n",
        "    self.sides=[]\n",
        "    for i in range(3):\n",
        "      self.sides.append(float(input('Enter side:')))\n",
        "class area(Triangle):\n",
        "  def area(self):\n",
        "    print(self.sides)\n",
        "    d,e,f=self.sides\n",
        "    s=(d+e+f)/2\n",
        "    #print(s)\n",
        "    ar=(s*(s-d)*(s-e)*(s-f))**0.5\n",
        "    print(ar)\n",
        "obj1=area()\n",
        "obj1.inp_sides()\n",
        "obj1.area()\n"
      ],
      "execution_count": 34,
      "outputs": [
        {
          "output_type": "stream",
          "text": [
            "Enter side:3\n",
            "Enter side:5\n",
            "Enter side:7\n",
            "[3.0, 5.0, 7.0]\n",
            "6.49519052838329\n"
          ],
          "name": "stdout"
        }
      ]
    },
    {
      "cell_type": "code",
      "metadata": {
        "id": "CRQLGSNViM8m",
        "colab_type": "code",
        "outputId": "4ea2f719-9c47-46f0-d331-b3e29df6ce90",
        "colab": {
          "base_uri": "https://localhost:8080/",
          "height": 34
        }
      },
      "source": [
        "1.2\n",
        "#Write a function filter_long_words() that takes a list of words and an integer \n",
        "#n and returns the list of words that are longer than n.\n",
        "\n",
        "def filter_long_words(WordList,n):\n",
        "  #n=3\n",
        "  if len(WordList)>n:\n",
        "    return WordList\n",
        "\n",
        "WordList=['a','ab','abc','abcd','abcdeff','abcdef','abc']\n",
        "n=3\n",
        "list(filter(lambda WordList: filter_long_words(WordList, n),WordList))"
      ],
      "execution_count": 0,
      "outputs": [
        {
          "output_type": "execute_result",
          "data": {
            "text/plain": [
              "['abcd', 'abcdeff', 'abcdef']"
            ]
          },
          "metadata": {
            "tags": []
          },
          "execution_count": 40
        }
      ]
    },
    {
      "cell_type": "code",
      "metadata": {
        "id": "rhqLb4cqjyda",
        "colab_type": "code",
        "outputId": "9e287f85-f31f-4964-9e78-62f16a994bb7",
        "colab": {
          "base_uri": "https://localhost:8080/",
          "height": 34
        }
      },
      "source": [
        "#2.1\n",
        "#Write a Python program using function concept that maps list of words into a list of integers representing the lengths of the corresponding words .\n",
        "#Hint: If a list [ ab,cde,erty] is passed on to the python function output should come as [2,3,4] Here 2,3 and 4 are the lengths of the words in the list.\n",
        "\n",
        "def WordLen(WordList):\n",
        "  return len(WordList)\n",
        "\n",
        "WordList=['a','ab','abc','abcd','abcdeff','abcdef','abc']\n",
        "#op=list(map(WordLen,WordList))\n",
        "op=list(map(lambda WordList:len(WordList),WordList))\n",
        "print(op)\n",
        "\n"
      ],
      "execution_count": 38,
      "outputs": [
        {
          "output_type": "stream",
          "text": [
            "[1, 2, 3, 4, 7, 6, 3]\n"
          ],
          "name": "stdout"
        }
      ]
    },
    {
      "cell_type": "code",
      "metadata": {
        "id": "VhPsDBmBp7W0",
        "colab_type": "code",
        "outputId": "ed73a806-a908-4783-dd83-44288c383ad9",
        "colab": {
          "base_uri": "https://localhost:8080/",
          "height": 51
        }
      },
      "source": [
        "#2.2\n",
        "#Write a Python function which takes a character (i.e. a string of length 1) and \n",
        "#returns True if it is a vowel, False otherwise.\n",
        "\n",
        "def isVowel(char):\n",
        "  vowels=['a','e','i','o','u']\n",
        "  if(char.lower() in vowels):\n",
        "    return True\n",
        "  else:\n",
        "    return False\n",
        "char=input('Enter a single character:')\n",
        "op=isVowel(char)\n",
        "print(op)\n",
        "\n"
      ],
      "execution_count": 0,
      "outputs": [
        {
          "output_type": "stream",
          "text": [
            "Enter a single character:A\n",
            "True\n"
          ],
          "name": "stdout"
        }
      ]
    }
  ]
}